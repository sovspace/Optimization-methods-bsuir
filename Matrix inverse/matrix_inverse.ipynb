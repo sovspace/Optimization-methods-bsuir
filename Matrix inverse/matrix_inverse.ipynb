{
 "cells": [
  {
   "cell_type": "markdown",
   "metadata": {},
   "source": [
    "# Лабораторная работа №1\n",
    "# Алгоритм обращения матрицы\n",
    "---\n",
    "\n",
    "Выполнил: Совпель Дмитрий, гр. 853501"
   ]
  },
  {
   "cell_type": "markdown",
   "metadata": {},
   "source": [
    "## Реализация метода"
   ]
  },
  {
   "cell_type": "markdown",
   "metadata": {},
   "source": [
    "Импортируем необходимые библиотеки."
   ]
  },
  {
   "cell_type": "code",
   "execution_count": 8,
   "metadata": {},
   "outputs": [],
   "source": [
    "import warnings\n",
    "import typing as tp\n",
    "\n",
    "import numpy as np\n",
    "import scipy.linalg as sla"
   ]
  },
  {
   "cell_type": "markdown",
   "metadata": {},
   "source": [
    "Реализуем функции, необходимые для построения алгоритмы `compute_alpha` и `compute_inverse_step`. Затем реализуем сам алгоритм обращения матрицы `inverse`."
   ]
  },
  {
   "cell_type": "code",
   "execution_count": 72,
   "metadata": {},
   "outputs": [],
   "source": [
    "def compute_alpha(inverse_matrix: np.array, column: np.array, column_no: int) -> float:\n",
    "    return inverse_matrix[column_no] @ column\n",
    "\n",
    "def compute_inverse_step(previous_inverse_matrix: np.array, column: np.array, column_no: int) -> np.array:\n",
    "    d = previous_inverse_matrix @ column\n",
    "    d_k = d[column_no]\n",
    "    d[column_no] = -1\n",
    "    d /= -d_k\n",
    "    \n",
    "    D = np.eye(previous_inverse_matrix.shape[0])\n",
    "    D[:, column_no] = d\n",
    "    \n",
    "    return D @ previous_inverse_matrix\n",
    "\n",
    "def inverse(matrix: np.array, verbose: bool = False) -> np.array:\n",
    "    current_inverse_matrix = np.eye(matrix.shape[0])\n",
    "    iteration = 0\n",
    "    \n",
    "    indexes_set = set(range(matrix.shape[0]))\n",
    "    indexes_order = [0] * matrix.shape[0]\n",
    "    if verbose:\n",
    "        print(f'Initial unused indexes set {set([element + 1 for element in indexes_set])}')\n",
    "        print(f'Initial matrix \\n {current_inverse_matrix}')\n",
    "    \n",
    "    while iteration < matrix.shape[0]:\n",
    "        is_singular = True\n",
    "        for current_column_no in indexes_set:\n",
    "            current_column = matrix[: ,current_column_no]\n",
    "            alpha = compute_alpha(current_inverse_matrix, current_column, iteration)\n",
    "            if not np.isclose(alpha, 0.0, rtol=1e-11):\n",
    "                is_singular = False\n",
    "                indexes_set.remove(current_column_no)\n",
    "                indexes_order[current_column_no] = iteration\n",
    "                break\n",
    "        if is_singular:\n",
    "            warnings.warn(\"Singular matrix\", sla.LinAlgWarning)\n",
    "            return None   \n",
    "        current_inverse_matrix = compute_inverse_step(current_inverse_matrix, current_column, iteration)\n",
    "        iteration += 1\n",
    "        \n",
    "        if verbose:\n",
    "            print(f'Current iteration no. {iteration}')\n",
    "            print(f'Current indexes set {set([element + 1 for element in indexes_set]) if indexes_set else \"{}\"}')\n",
    "            print(f'Current inverse matrix \\n {current_inverse_matrix}')\n",
    "    return current_inverse_matrix[np.array(indexes_order), :]"
   ]
  },
  {
   "cell_type": "markdown",
   "metadata": {},
   "source": [
    "Для тестирования используем вспомогательную функцию `test`. Функция проверяет условие $|AA^{-1} - E|_F < \\varepsilon$ (при этом по умолчанию $\\varepsilon = 0.00001$), и если оно не соблюдается выдает ошибку."
   ]
  },
  {
   "cell_type": "code",
   "execution_count": 33,
   "metadata": {},
   "outputs": [],
   "source": [
    "def test(matrix: np.array, inverse_matrix: np.array, eps = 1e-5) -> None:\n",
    "    if inverse_matrix is not None:\n",
    "        assert sla.norm(matrix @ inverse_matrix - np.eye(matrix.shape[0])) < eps"
   ]
  },
  {
   "cell_type": "markdown",
   "metadata": {},
   "source": [
    "## Тестирование алгоритма на матрице $A$"
   ]
  },
  {
   "cell_type": "markdown",
   "metadata": {},
   "source": [
    "Матрица $A$ имеет вид:\n",
    "$$A = \\begin{pmatrix}\n",
    "0 & 0 & 0 & 1 \\\\\n",
    "0 & 0 & 1 & 0 \\\\\n",
    "0 & 1 & 0 & 0 \\\\\n",
    "1 & 0 & 0 & 0 \\\\\n",
    "\\end{pmatrix}$$"
   ]
  },
  {
   "cell_type": "markdown",
   "metadata": {},
   "source": [
    "Как видно, алгоритм корректно отрабатывает данный тестовый случай."
   ]
  },
  {
   "cell_type": "code",
   "execution_count": 11,
   "metadata": {},
   "outputs": [],
   "source": [
    "matrix = np.array([[0, 0, 0, 1], [0, 0, 1, 0], [0, 1, 0, 0], [1, 0, 0, 0]])\n",
    "inverse_matrix = inverse(matrix)\n",
    "test(matrix, inverse_matrix)"
   ]
  },
  {
   "cell_type": "markdown",
   "metadata": {},
   "source": [
    "## Тестирование алгоритма на матрице $B_{\\varepsilon}$ для иследования точности метода"
   ]
  },
  {
   "cell_type": "markdown",
   "metadata": {},
   "source": [
    "Рассмотрим матрицы вида $B_{eps}$\n",
    "$$B_{eps} = \\begin{pmatrix}\n",
    "2 & 8 & -1 & 4 & 5 & 6 \\\\ \n",
    "1 & -9 & 2 & -3 & 1 & -2 \\\\                          \n",
    "3 & -1 & 1 & 1 + eps & 6 & 4 \\\\\n",
    "0 & 1 & 0 & 1 & 0 & 2 \\\\\n",
    "1 & 2 & -1 & 4 & 2 & 3 \\\\\n",
    "-3 & 2 & 1 & 0 & 0 & 0 \n",
    "\\end{pmatrix}$$\n",
    "для различных $eps = \\{1, 0.1, 0.0000001, 0.000000001, 0.000000000000001\\}$."
   ]
  },
  {
   "cell_type": "code",
   "execution_count": 15,
   "metadata": {},
   "outputs": [],
   "source": [
    "B = lambda eps: np.array([[2, 8, -1, 4, 5, 6], \n",
    "                          [1, -9, 2, -3, 1, -2], \n",
    "                          [3, -1, 1, 1 + eps, 6, 4],\n",
    "                          [0, 1, 0, 1, 0, 2], \n",
    "                          [1, 2, -1, 4, 2, 3],\n",
    "                          [-3, 2, 1, 0, 0, 0]])\n",
    "epses = [1, 0.1, 1e-6, 1e-9, 1e-15]"
   ]
  },
  {
   "cell_type": "markdown",
   "metadata": {},
   "source": [
    "### eps = 1\n",
    "Рассмотрим $B_{eps}$ при $eps = 1$. Как видно, данную ситуацию алгоритм отрабатывает корректно."
   ]
  },
  {
   "cell_type": "code",
   "execution_count": 36,
   "metadata": {},
   "outputs": [],
   "source": [
    "matrix = B(epses[0])\n",
    "inverse_matrix = inverse(matrix)\n",
    "test(matrix, inverse_matrix)"
   ]
  },
  {
   "cell_type": "markdown",
   "metadata": {},
   "source": [
    "### eps = 0.1\n",
    "Рассмотрим $B_{eps}$ при $eps = 0.1$. Как видно, данную ситуацию алгоритм также отрабатывает корректно."
   ]
  },
  {
   "cell_type": "code",
   "execution_count": 22,
   "metadata": {},
   "outputs": [],
   "source": [
    "matrix = B(epses[1])\n",
    "inverse_matrix = inverse(matrix)\n",
    "test(matrix, inverse_matrix)"
   ]
  },
  {
   "cell_type": "markdown",
   "metadata": {},
   "source": [
    "### eps = 0.000001\n",
    "Рассмотрим $B_{eps}$ при $eps = 0.000001$. В данном случае, условие $|BB^{-1} - E|_F < 0.00001$ не соблюдается. Попробуем условие $|BB^{-1} - E|_F < 0.1$."
   ]
  },
  {
   "cell_type": "code",
   "execution_count": 35,
   "metadata": {},
   "outputs": [
    {
     "ename": "AssertionError",
     "evalue": "",
     "output_type": "error",
     "traceback": [
      "\u001b[0;31m---------------------------------------------------------------------------\u001b[0m",
      "\u001b[0;31mAssertionError\u001b[0m                            Traceback (most recent call last)",
      "\u001b[0;32m<ipython-input-35-af6f3b8d0591>\u001b[0m in \u001b[0;36m<module>\u001b[0;34m\u001b[0m\n\u001b[1;32m      1\u001b[0m \u001b[0mmatrix\u001b[0m \u001b[0;34m=\u001b[0m \u001b[0mB\u001b[0m\u001b[0;34m(\u001b[0m\u001b[0mepses\u001b[0m\u001b[0;34m[\u001b[0m\u001b[0;36m2\u001b[0m\u001b[0;34m]\u001b[0m\u001b[0;34m)\u001b[0m\u001b[0;34m\u001b[0m\u001b[0;34m\u001b[0m\u001b[0m\n\u001b[1;32m      2\u001b[0m \u001b[0minverse_matrix\u001b[0m \u001b[0;34m=\u001b[0m \u001b[0minverse\u001b[0m\u001b[0;34m(\u001b[0m\u001b[0mmatrix\u001b[0m\u001b[0;34m)\u001b[0m\u001b[0;34m\u001b[0m\u001b[0;34m\u001b[0m\u001b[0m\n\u001b[0;32m----> 3\u001b[0;31m \u001b[0mtest\u001b[0m\u001b[0;34m(\u001b[0m\u001b[0mmatrix\u001b[0m\u001b[0;34m,\u001b[0m \u001b[0minverse_matrix\u001b[0m\u001b[0;34m)\u001b[0m\u001b[0;34m\u001b[0m\u001b[0;34m\u001b[0m\u001b[0m\n\u001b[0m",
      "\u001b[0;32m<ipython-input-33-327f4077c160>\u001b[0m in \u001b[0;36mtest\u001b[0;34m(matrix, inverse_matrix, eps)\u001b[0m\n\u001b[1;32m      1\u001b[0m \u001b[0;32mdef\u001b[0m \u001b[0mtest\u001b[0m\u001b[0;34m(\u001b[0m\u001b[0mmatrix\u001b[0m\u001b[0;34m:\u001b[0m \u001b[0mnp\u001b[0m\u001b[0;34m.\u001b[0m\u001b[0marray\u001b[0m\u001b[0;34m,\u001b[0m \u001b[0minverse_matrix\u001b[0m\u001b[0;34m:\u001b[0m \u001b[0mnp\u001b[0m\u001b[0;34m.\u001b[0m\u001b[0marray\u001b[0m\u001b[0;34m,\u001b[0m \u001b[0meps\u001b[0m \u001b[0;34m=\u001b[0m \u001b[0;36m1e-5\u001b[0m\u001b[0;34m)\u001b[0m \u001b[0;34m->\u001b[0m \u001b[0;32mNone\u001b[0m\u001b[0;34m:\u001b[0m\u001b[0;34m\u001b[0m\u001b[0;34m\u001b[0m\u001b[0m\n\u001b[1;32m      2\u001b[0m     \u001b[0;32mif\u001b[0m \u001b[0minverse_matrix\u001b[0m \u001b[0;32mis\u001b[0m \u001b[0;32mnot\u001b[0m \u001b[0;32mNone\u001b[0m\u001b[0;34m:\u001b[0m\u001b[0;34m\u001b[0m\u001b[0;34m\u001b[0m\u001b[0m\n\u001b[0;32m----> 3\u001b[0;31m         \u001b[0;32massert\u001b[0m \u001b[0msla\u001b[0m\u001b[0;34m.\u001b[0m\u001b[0mnorm\u001b[0m\u001b[0;34m(\u001b[0m\u001b[0mmatrix\u001b[0m \u001b[0;34m@\u001b[0m \u001b[0minverse_matrix\u001b[0m \u001b[0;34m-\u001b[0m \u001b[0mnp\u001b[0m\u001b[0;34m.\u001b[0m\u001b[0meye\u001b[0m\u001b[0;34m(\u001b[0m\u001b[0mmatrix\u001b[0m\u001b[0;34m.\u001b[0m\u001b[0mshape\u001b[0m\u001b[0;34m[\u001b[0m\u001b[0;36m0\u001b[0m\u001b[0;34m]\u001b[0m\u001b[0;34m)\u001b[0m\u001b[0;34m)\u001b[0m \u001b[0;34m<\u001b[0m \u001b[0meps\u001b[0m\u001b[0;34m\u001b[0m\u001b[0;34m\u001b[0m\u001b[0m\n\u001b[0m",
      "\u001b[0;31mAssertionError\u001b[0m: "
     ]
    }
   ],
   "source": [
    "matrix = B(epses[2])\n",
    "inverse_matrix = inverse(matrix)\n",
    "test(matrix, inverse_matrix)"
   ]
  },
  {
   "cell_type": "markdown",
   "metadata": {},
   "source": [
    "Как видно, условие $|BB^{-1} - E|_F < 0.1$ соблюдается. Для сравнения посмотрим, как справляется с этим тестовым случаем встроенная функция библиотеки `scipy`."
   ]
  },
  {
   "cell_type": "code",
   "execution_count": 37,
   "metadata": {},
   "outputs": [],
   "source": [
    "matrix = B(epses[2])\n",
    "inverse_matrix = inverse(matrix)\n",
    "test(matrix, inverse_matrix, 0.1)"
   ]
  },
  {
   "cell_type": "markdown",
   "metadata": {},
   "source": [
    "Как видно, встроенная функция `inv` справляется с данным тестовым случаем (то есть точность метода, заложенного в функцию `inv` выше, чем метода, реализованного рассматриваемым алгоритмом)."
   ]
  },
  {
   "cell_type": "code",
   "execution_count": 42,
   "metadata": {},
   "outputs": [],
   "source": [
    "matrix = B(epses[2])\n",
    "inverse_matrix = sla.inv(matrix)\n",
    "test(matrix, inverse_matrix)"
   ]
  },
  {
   "cell_type": "markdown",
   "metadata": {},
   "source": [
    "### eps = 0.000000001\n",
    "Рассмотрим $B_{eps}$ при $eps = 0.000000001$. В данном случае, алгоритм выдает сообщение, о том что матрица является вырожденной."
   ]
  },
  {
   "cell_type": "code",
   "execution_count": 47,
   "metadata": {},
   "outputs": [
    {
     "name": "stderr",
     "output_type": "stream",
     "text": [
      "<ipython-input-9-089af5996201>:33: LinAlgWarning: Singular matrix\n",
      "  warnings.warn(\"Singular matrix\", sla.LinAlgWarning)\n"
     ]
    }
   ],
   "source": [
    "matrix = B(epses[3])\n",
    "inverse_matrix = inverse(matrix)\n",
    "test(matrix, inverse_matrix)"
   ]
  },
  {
   "cell_type": "markdown",
   "metadata": {},
   "source": [
    "При этом, встроенный метод `inv` выдает корректный результат."
   ]
  },
  {
   "cell_type": "code",
   "execution_count": 51,
   "metadata": {},
   "outputs": [],
   "source": [
    "matrix = B(epses[3])\n",
    "inverse_matrix = sla.inv(matrix)\n",
    "test(matrix, inverse_matrix)"
   ]
  },
  {
   "cell_type": "markdown",
   "metadata": {},
   "source": [
    "### eps = 0.000000000000001\n",
    "Рассмотрим $B_{eps}$ при $eps = 0.000000000000001$. В данном случае, алгоритм выдает сообщение, о том что матрица является вырожденной."
   ]
  },
  {
   "cell_type": "code",
   "execution_count": 50,
   "metadata": {},
   "outputs": [
    {
     "name": "stderr",
     "output_type": "stream",
     "text": [
      "<ipython-input-9-089af5996201>:33: LinAlgWarning: Singular matrix\n",
      "  warnings.warn(\"Singular matrix\", sla.LinAlgWarning)\n"
     ]
    }
   ],
   "source": [
    "matrix = B(epses[4])\n",
    "inverse_matrix = inverse(matrix)\n",
    "test(matrix, inverse_matrix)"
   ]
  },
  {
   "cell_type": "markdown",
   "metadata": {},
   "source": [
    "При этом, точность встроенного метод `inv` падает, поэтому условие проверки в данном тестовом случае не соблюдено."
   ]
  },
  {
   "cell_type": "code",
   "execution_count": 55,
   "metadata": {},
   "outputs": [
    {
     "ename": "AssertionError",
     "evalue": "",
     "output_type": "error",
     "traceback": [
      "\u001b[0;31m---------------------------------------------------------------------------\u001b[0m",
      "\u001b[0;31mAssertionError\u001b[0m                            Traceback (most recent call last)",
      "\u001b[0;32m<ipython-input-55-63b1598fd2e0>\u001b[0m in \u001b[0;36m<module>\u001b[0;34m\u001b[0m\n\u001b[1;32m      1\u001b[0m \u001b[0mmatrix\u001b[0m \u001b[0;34m=\u001b[0m \u001b[0mB\u001b[0m\u001b[0;34m(\u001b[0m\u001b[0mepses\u001b[0m\u001b[0;34m[\u001b[0m\u001b[0;36m4\u001b[0m\u001b[0;34m]\u001b[0m\u001b[0;34m)\u001b[0m\u001b[0;34m\u001b[0m\u001b[0;34m\u001b[0m\u001b[0m\n\u001b[1;32m      2\u001b[0m \u001b[0minverse_matrix\u001b[0m \u001b[0;34m=\u001b[0m \u001b[0msla\u001b[0m\u001b[0;34m.\u001b[0m\u001b[0minv\u001b[0m\u001b[0;34m(\u001b[0m\u001b[0mmatrix\u001b[0m\u001b[0;34m)\u001b[0m\u001b[0;34m\u001b[0m\u001b[0;34m\u001b[0m\u001b[0m\n\u001b[0;32m----> 3\u001b[0;31m \u001b[0mtest\u001b[0m\u001b[0;34m(\u001b[0m\u001b[0mmatrix\u001b[0m\u001b[0;34m,\u001b[0m \u001b[0minverse_matrix\u001b[0m\u001b[0;34m)\u001b[0m\u001b[0;34m\u001b[0m\u001b[0;34m\u001b[0m\u001b[0m\n\u001b[0m",
      "\u001b[0;32m<ipython-input-33-327f4077c160>\u001b[0m in \u001b[0;36mtest\u001b[0;34m(matrix, inverse_matrix, eps)\u001b[0m\n\u001b[1;32m      1\u001b[0m \u001b[0;32mdef\u001b[0m \u001b[0mtest\u001b[0m\u001b[0;34m(\u001b[0m\u001b[0mmatrix\u001b[0m\u001b[0;34m:\u001b[0m \u001b[0mnp\u001b[0m\u001b[0;34m.\u001b[0m\u001b[0marray\u001b[0m\u001b[0;34m,\u001b[0m \u001b[0minverse_matrix\u001b[0m\u001b[0;34m:\u001b[0m \u001b[0mnp\u001b[0m\u001b[0;34m.\u001b[0m\u001b[0marray\u001b[0m\u001b[0;34m,\u001b[0m \u001b[0meps\u001b[0m \u001b[0;34m=\u001b[0m \u001b[0;36m1e-5\u001b[0m\u001b[0;34m)\u001b[0m \u001b[0;34m->\u001b[0m \u001b[0;32mNone\u001b[0m\u001b[0;34m:\u001b[0m\u001b[0;34m\u001b[0m\u001b[0;34m\u001b[0m\u001b[0m\n\u001b[1;32m      2\u001b[0m     \u001b[0;32mif\u001b[0m \u001b[0minverse_matrix\u001b[0m \u001b[0;32mis\u001b[0m \u001b[0;32mnot\u001b[0m \u001b[0;32mNone\u001b[0m\u001b[0;34m:\u001b[0m\u001b[0;34m\u001b[0m\u001b[0;34m\u001b[0m\u001b[0m\n\u001b[0;32m----> 3\u001b[0;31m         \u001b[0;32massert\u001b[0m \u001b[0msla\u001b[0m\u001b[0;34m.\u001b[0m\u001b[0mnorm\u001b[0m\u001b[0;34m(\u001b[0m\u001b[0mmatrix\u001b[0m \u001b[0;34m@\u001b[0m \u001b[0minverse_matrix\u001b[0m \u001b[0;34m-\u001b[0m \u001b[0mnp\u001b[0m\u001b[0;34m.\u001b[0m\u001b[0meye\u001b[0m\u001b[0;34m(\u001b[0m\u001b[0mmatrix\u001b[0m\u001b[0;34m.\u001b[0m\u001b[0mshape\u001b[0m\u001b[0;34m[\u001b[0m\u001b[0;36m0\u001b[0m\u001b[0;34m]\u001b[0m\u001b[0;34m)\u001b[0m\u001b[0;34m)\u001b[0m \u001b[0;34m<\u001b[0m \u001b[0meps\u001b[0m\u001b[0;34m\u001b[0m\u001b[0;34m\u001b[0m\u001b[0m\n\u001b[0m",
      "\u001b[0;31mAssertionError\u001b[0m: "
     ]
    }
   ],
   "source": [
    "matrix = B(epses[4])\n",
    "inverse_matrix = sla.inv(matrix)\n",
    "test(matrix, inverse_matrix)"
   ]
  },
  {
   "cell_type": "markdown",
   "metadata": {},
   "source": [
    "## Тестирование алгоритма на матрице $C_{14}$ для определения соответствия реализованного алгоритма заложенному методу"
   ]
  },
  {
   "cell_type": "markdown",
   "metadata": {},
   "source": [
    "Рассмотрим ход работы метода для матрицы вида:\n",
    "$$C_{14} = \n",
    "\\begin{pmatrix} \n",
    "-1 && -1 && -1 && -1 \\\\ \n",
    "0 && 0 && 2 && 6 \\\\ \n",
    "1 && 2 && 0 && 0 \\\\ \n",
    "1 && -2 && 1 && 1\n",
    "\\end{pmatrix}\n",
    "$$\n",
    "\n",
    "**Итерация** $i = 0$ \n",
    "\n",
    "Положим:\n",
    " - $C^0 = E$ - матрица, которая после замены столбцов на столбцы $C_{14}$ (после всех итераций алгоритма) должна стать равной $C_{14}$\n",
    " - $B^0 = E$ - матрица, которая после всех итераций алгоритма должна стать равной $C_{14}^{-1}$\n",
    " - $J^0 = \\{1, 2, 3, 4\\}$ - множество номеров неиспользованных (невставленных) столбцев исходной матрицы $C_{14}$ \n",
    " \n",
    "При этом, столбы матрицы $C_{14}$ обозначим как $c_1$, $c_2$, $c_3$ ,$c_4$\n",
    "\n",
    "Шаг 1. Найдем ненулевое $\\alpha_j$, где $j$ итерируется по номерам неиспользованных столбцев из множества $J^0$:\n",
    " - $\\alpha_1 = e_1^TB^0c_1 = (1, 0, 0, 0)\n",
    "\\begin{pmatrix} \n",
    "1 && 0 && 0 && 0 \\\\ \n",
    "0 && 1 && 0 && 0 \\\\ \n",
    "0 && 0 && 1 && 0 \\\\ \n",
    "0 && 0 && 0 && 1\n",
    "\\end{pmatrix} \\begin{pmatrix}-1 \\\\ 0 \\\\ 1 \\\\ 1\\end{pmatrix} = 1$\n",
    "\n",
    "Поскольку $\\alpha_1 \\ne 0$, то для вставки выберем 1 столбец. \n",
    "\n",
    "Шаг 2. Обновим $C^1, B^1, J^1$:\n",
    " - $C^1 = (c_1, e_2, e_3, e_4)$\n",
    " - $J^1 = J^0 \\backslash \\{1\\} = \\{2, 3, 4 \\}$\n",
    " - $B^1 = D(1, B^0c_1)B^0 = \\begin{pmatrix} \n",
    "-1 && 0 && 0 && 0 \\\\ \n",
    "0 && 1 && 0 && 0 \\\\ \n",
    "1 && 0 && 1 && 0 \\\\ \n",
    "1 && 0 && 0 && 1\n",
    "\\end{pmatrix} \\begin{pmatrix} \n",
    "1 && 0 && 0 && 0 \\\\ \n",
    "0 && 1 && 0 && 0 \\\\ \n",
    "0 && 0 && 1 && 0 \\\\ \n",
    "0 && 0 && 0 && 1\n",
    "\\end{pmatrix} = \\begin{pmatrix} \n",
    "-1 && 0 && 0 && 0 \\\\ \n",
    "0 && 1 && 0 && 0 \\\\ \n",
    "1 && 0 && 1 && 0 \\\\ \n",
    "1 && 0 && 0 && 1\n",
    "\\end{pmatrix}$\n",
    "\n",
    "Так как номер итерации $i + 1  < 4$, перейдем на следующую итерацию $i = 1$.\n",
    "\n",
    "**Итерация** $i = 1$ \n",
    "\n",
    "Шаг 1. Найдем ненулевое $\\alpha_j$, где $j$ итерируется по номерам неиспользованных столбцев из множества $J^1$:\n",
    " - $\\alpha_2 = e_2^TB^1c_2 = (0, 1, 0, 0)\n",
    "\\begin{pmatrix} \n",
    "-1 && 0 && 0 && 0 \\\\ \n",
    "0 && 1 && 0 && 0 \\\\ \n",
    "1 && 0 && 1 && 0 \\\\ \n",
    "1 && 0 && 0 && 1\n",
    "\\end{pmatrix} \\begin{pmatrix}-1 \\\\ 0 \\\\ 2 \\\\ -2\\end{pmatrix} = 0$\n",
    "\n",
    "Так как $\\alpha_2 = 0$, то продолжим искать подходящий номер столбца\n",
    "\n",
    " - $\\alpha_3 = e_2^TB^1c_3 = (0, 1, 0, 0)\n",
    "\\begin{pmatrix} \n",
    "-1 && 0 && 0 && 0 \\\\ \n",
    "0 && 1 && 0 && 0 \\\\ \n",
    "1 && 0 && 1 && 0 \\\\ \n",
    "1 && 0 && 0 && 1\n",
    "\\end{pmatrix} \\begin{pmatrix}-1 \\\\ 2 \\\\ 0 \\\\ 1\\end{pmatrix} = 2$\n",
    "\n",
    "Поскольку $\\alpha_3 \\ne 0$, то для вставки выберем 3 столбец. \n",
    "\n",
    "Шаг 2. Обновим $C^2, B^2, J^2$:\n",
    " - $C^2 = (c_1, c_3, e_3, e_4)$\n",
    " - $J^2 = J^1 \\backslash \\{3\\} = \\{2, 4 \\}$\n",
    " - $B^2 = D(2, B^1c_3)B^1 = \\begin{pmatrix} \n",
    "-1 && -0.5 && 0 && 0 \\\\ \n",
    "0 && 0.5 && 0 && 0 \\\\ \n",
    "1 && 0.5 && 1 && 0 \\\\ \n",
    "1 && 0 && 0 && 1\n",
    "\\end{pmatrix}$\n",
    "\n",
    "Так как номер итерации $i + 1  < 4$, перейдем на следующую итерацию $i = 2$.\n",
    "\n",
    "**Итерация** $i = 2$ \n",
    "\n",
    "Шаг 1. Найдем ненулевое $\\alpha_j$, где $j$ итерируется по номерам неиспользованных столбцев из множества $J^2$:\n",
    " - $\\alpha_2 = e_3^TB^2c_2 = (0, 0, 1, 0)\n",
    "\\begin{pmatrix} \n",
    "-1 && -0.5 && 0 && 0 \\\\ \n",
    "0 && 0.5 && 0 && 0 \\\\ \n",
    "1 && 0.5 && 1 && 0 \\\\ \n",
    "1 && 0 && 0 && 1\n",
    "\\end{pmatrix} \\begin{pmatrix}-1 \\\\ 0 \\\\ 2 \\\\ -2\\end{pmatrix} = 2$\n",
    "\n",
    "Так как $\\alpha_2 \\ne 0$, то для вставки выберем 2 столбец.\n",
    "\n",
    "Шаг 2. Обновим $C^3, B^3, J^3$:\n",
    " - $C^3 = (c_1, c_3, c_2, e_4)$\n",
    " - $J^3 = J^2 \\backslash \\{2\\} = \\{4 \\}$\n",
    " - $B^3 = D(3, B^2c_2)B^2 = \\begin{pmatrix} \n",
    "-2 && -1 && -1 && 0 \\\\ \n",
    "0 && 0.5 && 0 && 0 \\\\ \n",
    "1 && 0.5 && 1 && 0 \\\\ \n",
    "4 && 1.5 && 3 && 1\n",
    "\\end{pmatrix}$\n",
    "\n",
    "Так как номер итерации $i + 1 < 4$, перейдем на следующую итерацию $i = 3$.\n",
    "\n",
    "**Итерация** $i = 3$ \n",
    "\n",
    "Шаг 1. Найдем ненулевое $\\alpha_j$, где $j$ итерируется по номерам неиспользованных столбцев из множества $J^3$:\n",
    " - $\\alpha_4 = e_4^TB^3c_4 = (0, 0, 0, 1)\n",
    "\\begin{pmatrix} \n",
    "-2 && -1 && -1 && 0 \\\\ \n",
    "0 && 0.5 && 0 && 0 \\\\ \n",
    "1 && 0.5 && 1 && 0 \\\\ \n",
    "4 && 1.5 && 3 && 1\n",
    "\\end{pmatrix} \\begin{pmatrix}-1 \\\\ 6 \\\\ 0 \\\\ 1\\end{pmatrix} = 1$\n",
    "\n",
    "Так как $\\alpha_4 \\ne 0$, то для вставки выберем 4 столбец.\n",
    "\n",
    "Шаг 2. Обновим $C^4, B^4, J^4$:\n",
    " - $C^4 = (c_1, c_3, c_2, c_4)$\n",
    " - $J^4 = J^3 \\backslash \\{4\\} = \\{ \\}$\n",
    " - $B^4 = D(4, B^3c_4)B^3 = \\begin{pmatrix} \n",
    "-6.66 && -5.55 && 1 && 6.67 \\\\ \n",
    "-2.00 && -2.50 && -1.5 && -5.00 \\\\ \n",
    "3.33 && 2.78 && 5.55 && -3.33 \\\\ \n",
    "6.66 && 2.50 && 5.00 && 1.67\n",
    "\\end{pmatrix}$\n",
    "\n",
    "Так как номер итерации $i + 1 = 4$, работа метода окончена. Искомая $C_{14}^{-1}$ матрица получается перестановкой строк матрицы $B^4$"
   ]
  },
  {
   "cell_type": "markdown",
   "metadata": {},
   "source": [
    "Протестируем реализованный алгоритм на матрице $C_{14}$, при этом делая вывод текущей итерации $i$, множества $J_i$ и матрицы $B_i$. Как видно, реализованный алгоритм показывает полное соответствие заложенному в него методу."
   ]
  },
  {
   "cell_type": "code",
   "execution_count": 73,
   "metadata": {},
   "outputs": [
    {
     "name": "stdout",
     "output_type": "stream",
     "text": [
      "Initial unused indexes set {1, 2, 3, 4}\n",
      "Initial matrix \n",
      " [[1. 0. 0. 0.]\n",
      " [0. 1. 0. 0.]\n",
      " [0. 0. 1. 0.]\n",
      " [0. 0. 0. 1.]]\n",
      "Current iteration no. 1\n",
      "Current indexes set {2, 3, 4}\n",
      "Current inverse matrix \n",
      " [[-1.  0.  0.  0.]\n",
      " [ 0.  1.  0.  0.]\n",
      " [ 1.  0.  1.  0.]\n",
      " [ 1.  0.  0.  1.]]\n",
      "Current iteration no. 2\n",
      "Current indexes set {2, 4}\n",
      "Current inverse matrix \n",
      " [[-1.  -0.5  0.   0. ]\n",
      " [ 0.   0.5  0.   0. ]\n",
      " [ 1.   0.5  1.   0. ]\n",
      " [ 1.   0.   0.   1. ]]\n",
      "Current iteration no. 3\n",
      "Current indexes set {4}\n",
      "Current inverse matrix \n",
      " [[-2.  -1.  -1.   0. ]\n",
      " [ 0.   0.5  0.   0. ]\n",
      " [ 1.   0.5  1.   0. ]\n",
      " [ 4.   1.5  3.   1. ]]\n",
      "Current iteration no. 4\n",
      "Current indexes set {}\n",
      "Current inverse matrix \n",
      " [[ 6.66666667e-01 -5.55111512e-17  1.00000000e+00  6.66666667e-01]\n",
      " [-2.00000000e+00 -2.50000000e-01 -1.50000000e+00 -5.00000000e-01]\n",
      " [-3.33333333e-01  2.77555756e-17  5.55111512e-17 -3.33333333e-01]\n",
      " [ 6.66666667e-01  2.50000000e-01  5.00000000e-01  1.66666667e-01]]\n"
     ]
    }
   ],
   "source": [
    "matrix = np.array([[-1, -1, -1, -1], [0, 0, 2, 6], [1, 2, 0, 0], [1, -2, 1, 1]])\n",
    "inverse_matrix = inverse(matrix, verbose=True)\n",
    "test(matrix, inverse_matrix)"
   ]
  }
 ],
 "metadata": {
  "kernelspec": {
   "display_name": "Python 3",
   "language": "python",
   "name": "python3"
  },
  "language_info": {
   "codemirror_mode": {
    "name": "ipython",
    "version": 3
   },
   "file_extension": ".py",
   "mimetype": "text/x-python",
   "name": "python",
   "nbconvert_exporter": "python",
   "pygments_lexer": "ipython3",
   "version": "3.8.7"
  }
 },
 "nbformat": 4,
 "nbformat_minor": 4
}
