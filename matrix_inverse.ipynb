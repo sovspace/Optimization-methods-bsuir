{
 "cells": [
  {
   "cell_type": "code",
   "execution_count": null,
   "metadata": {},
   "outputs": [],
   "source": [
    "import warnings\n",
    "import typing as tp\n",
    "\n",
    "import numpy as np\n",
    "import scipy.linalg as sla"
   ]
  },
  {
   "cell_type": "code",
   "execution_count": 4,
   "metadata": {},
   "outputs": [],
   "source": [
    "def compute_alpha(inverse_matrix: np.array, column: np.array, column_no: int) -> float:\n",
    "    return inverse_matrix[column_no] @ column\n",
    "\n",
    "def compute_inverse_step(previous_inverse_matrix: np.array, column: np.array, column_no: int) -> np.array:\n",
    "    d = previous_inverse_matrix @ column\n",
    "    d_k = d[column_no]\n",
    "    d[column_no] = -1\n",
    "    d /= -d_k\n",
    "    \n",
    "    D = np.eye(previous_inverse_matrix.shape[0])\n",
    "    D[:, column_no] = d\n",
    "    \n",
    "    return D @ previous_inverse_matrix\n",
    "\n",
    "def inverse(matrix: np.array) -> np.array:\n",
    "    current_inverse_matrix = np.eye(matrix.shape[0])\n",
    "    iteration = 0\n",
    "    \n",
    "    indexes_set = set(range(matrix.shape[0]))\n",
    "    indexes_order = [0] * matrix.shape[0]\n",
    "    \n",
    "    while iteration < matrix.shape[0]:\n",
    "        is_singular = True\n",
    "        for current_column_no in indexes_set:\n",
    "            current_column = matrix[: ,current_column_no]\n",
    "            alpha = compute_alpha(current_inverse_matrix, current_column, iteration)\n",
    "            if not np.isclose(alpha, 0.0, rtol=1e-11):\n",
    "                is_singular = False\n",
    "                indexes_set.remove(current_column_no)\n",
    "                indexes_order[current_column_no] = iteration\n",
    "                break\n",
    "        if is_singular:\n",
    "            warnings.warn(\"Singular matrix\", sla.LinAlgWarning)\n",
    "            return None    \n",
    "        current_inverse_matrix = compute_inverse_step(current_inverse_matrix, current_column, iteration)\n",
    "        iteration += 1\n",
    "    return current_inverse_matrix[np.array(indexes_order), :]"
   ]
  },
  {
   "cell_type": "code",
   "execution_count": 5,
   "metadata": {},
   "outputs": [],
   "source": [
    "def test(matrix: np.array, inverse_matrix: np.array, eps = 1e-5) -> None:\n",
    "    if inverse_matrix is not None:\n",
    "        print(matrix @ inverse_matrix)\n",
    "        assert sla.norm(matrix @ inverse_matrix - np.eye(matrix.shape[0])) < eps"
   ]
  },
  {
   "cell_type": "code",
   "execution_count": 6,
   "metadata": {},
   "outputs": [],
   "source": [
    "matrices = [\n",
    "    np.array([[0, 0, 0, 1], [0, 0, 1, 0], [0, 1, 0, 0], [1, 0, 0, 0]]), \n",
    "    \n",
    "    np.array([[0, 0, 0, -5], [0, 0, 1, 6], [2, 4, 0, 0], [-1, 3, 0, 0]]),\n",
    "    np.array([[0, 0, 4, 0], [0, 0, 1, 6], [1, 4, 0, 0], [-1, 3, 0, 0]]),\n",
    "    \n",
    "    np.array([[0, 0, 8, 3], [0, 0, 1, 6], [2, 4, 0, 0], [0, 3, 0, 0]]),\n",
    "    np.array([[0, 0, 0, -5], [0, 0, 1, 6], [0, 4, 0, 0], [-1, 0, 0, 0]]),\n",
    "    np.array([[0, 0, 0, -5], [0, 0, 2, 6], [0, 4, 1, 3], [-1, 2, 1, 6]]),\n",
    "    \n",
    "    np.array([[0, 0, 0, 1], [0, 0, 1, 6], [0, 2, 1, -3], [1, 2, 1, 6]]),\n",
    "    np.array([[0, 0, 0, 1], [1, 0, 2, 6], [0, 2, 1, -3], [1, 2, 1, 6]]),\n",
    "    np.array([[0, 0, 0, 1], [1, 0, 2, -1], [0, 2, 1, -3], [0, 2, 1, 6]]),\n",
    "    \n",
    "    np.array([[0, 1, 1, -1], [1, 0, 2, 6], [0, 2, 1, -3], [1, 2, 1, -1]]),\n",
    "    np.array([[0, 1, 1, -1], [1, 0, 1, 3], [0, 1, 1, -3], [1, 2, 1, -1]]),\n",
    "    np.array([[0, 1, 0, -1], [0, 0, 2, 6], [0, 2, 1, -3], [1, -2, 1, 1]]),\n",
    "\n",
    "    np.array([[-1, 1, 0, -1], [0, 0, 2, 6], [1, 2, 1, -3], [1, -2, 1, 1]]),\n",
    "    np.array([[0, 1, 0, 0], [0, 0, 2, 4], [1, 2, 1, -3], [1, -2, 1, 1]]),\n",
    "    np.array([[-1, -1, -1, -1], [0, 0, 2, 6], [1, 2, 0, 0], [1, -2, 1, 1]]),\n",
    "]\n",
    "\n",
    "\n",
    "epses = [1, 0.1, 1e-6, 1e-9, 1e-15]\n",
    "B = lambda eps: np.array([[2, 8, -1, 4, 5, 6], \n",
    "                          [1, -9, 2, -3, 1, -2], \n",
    "                          [3, -1, 1, 1 + eps, 6, 4],\n",
    "                          [0, 1, 0, 1, 0, 2], \n",
    "                          [1, 2, -1, 4, 2, 3],\n",
    "                          [-3, 2, 1, 0, 0, 0]])"
   ]
  },
  {
   "cell_type": "code",
   "execution_count": 9,
   "metadata": {},
   "outputs": [
    {
     "data": {
      "text/plain": [
       "array([[ 4. , -1. , -4. ,  2. ],\n",
       "       [-5. ,  1. ,  4. , -1. ],\n",
       "       [ 4. , -0.5, -2.5,  0.5],\n",
       "       [-2. ,  0.5,  1.5, -0.5]])"
      ]
     },
     "execution_count": 9,
     "metadata": {},
     "output_type": "execute_result"
    }
   ],
   "source": [
    "inverse(matrices[9])"
   ]
  }
 ],
 "metadata": {
  "kernelspec": {
   "display_name": "Python 3",
   "language": "python",
   "name": "python3"
  },
  "language_info": {
   "codemirror_mode": {
    "name": "ipython",
    "version": 3
   },
   "file_extension": ".py",
   "mimetype": "text/x-python",
   "name": "python",
   "nbconvert_exporter": "python",
   "pygments_lexer": "ipython3",
   "version": "3.8.7"
  }
 },
 "nbformat": 4,
 "nbformat_minor": 4
}
