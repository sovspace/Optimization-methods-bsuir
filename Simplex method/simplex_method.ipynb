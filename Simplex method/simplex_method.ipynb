{
 "cells": [
  {
   "cell_type": "markdown",
   "metadata": {},
   "source": [
    "# Лабораторная работа №2\n",
    "# Решение задач линейного программирования при помощи симплекс-метода\n",
    "---\n",
    "Выполнил: Совпель Дмитрий, гр. 853501"
   ]
  },
  {
   "cell_type": "markdown",
   "metadata": {},
   "source": [
    "## Реализация метода"
   ]
  },
  {
   "cell_type": "markdown",
   "metadata": {},
   "source": [
    "Импортируем необходимые библиотеки."
   ]
  },
  {
   "cell_type": "code",
   "execution_count": 1,
   "metadata": {},
   "outputs": [],
   "source": [
    "import typing\n",
    "import warnings\n",
    "import numpy as np\n",
    "\n",
    "import scipy.linalg as sla\n",
    "import scipy.optimize as opt"
   ]
  },
  {
   "cell_type": "markdown",
   "metadata": {},
   "source": [
    "Метод нахождения первоначальной матрицы основан на решении системы линейных уравнений с использованием библиотеки `scipy` и ее функции `solve`. Метод обращения из предыдущей лабораторной работы не использовался, так как точность метода была ниже, чем у библиотечных реализаций. \n",
    "При необходимости можно было воспользоватся методами обращения на основе `PLU` или `QR` разложений матрицы, а также методами `LMGRES` или методом сопряженных градиентов (`CG`) при решении систем с разрежянными матрицами, однако в данной лабораторной работе рассматривается наиболее общая постановка задачи. "
   ]
  },
  {
   "cell_type": "code",
   "execution_count": 2,
   "metadata": {},
   "outputs": [],
   "source": [
    "def inverse(A: np.array) -> np.array:\n",
    "    return sla.solve(A, np.eye(A.shape[0]))"
   ]
  },
  {
   "cell_type": "markdown",
   "metadata": {},
   "source": [
    "Реализуем симплекс-метод. При этом, в данной реализации был сделан упор на максимальное использования библиотеки `numpy` для работы с векторами и матрицами, нахождения минимума в векторе, использовании предикатов относительно вектора и в целом полной минимазации использовании обычных циклов. Это было сделано по ряду причин:\n",
    "- использование обычных циклов Python очень сильно замедляет программу, `numpy` использует код, написанный на языке `C` (тем самым более быстрый), и оптимизированный для векторно-матричных операций\n",
    "- реализация более универсальна с точки зрения представления входных данных - при необходимости работы с разряженными матрицами программу можно легко изменить для данных целей  "
   ]
  },
  {
   "cell_type": "code",
   "execution_count": 3,
   "metadata": {},
   "outputs": [],
   "source": [
    "def simplex(A: np.array, c: np.array, initial_basic_solution: np.array, initial_basis: list, verbose: bool = False) -> np.array:\n",
    "    iteration_no = 0\n",
    "\n",
    "    basis = initial_basis.copy()\n",
    "    non_basis = list(set(range(initial_basic_solution.size)) - set(basis))\n",
    "    \n",
    "    solution = initial_basic_solution.copy()\n",
    "    basic_A_inverse = inverse(A[:, basis])\n",
    "    if verbose:\n",
    "        print(f'Initial B:\\n {basic_A_inverse}')\n",
    "        \n",
    "    while True:\n",
    "        potential = c[basis] @ basic_A_inverse\n",
    "        estimate = potential @ A[:, non_basis] - c[non_basis]\n",
    "        estimate_negative_or_first_element_index = np.argmax(estimate < 0.0)    \n",
    "        j_0 = non_basis[estimate_negative_or_first_element_index]\n",
    "        if verbose:\n",
    "            print(f'Iteration no.: {iteration_no}')\n",
    "            print(f'Vector potential: {potential}')\n",
    "            print(f'Vector estimate: {estimate}')\n",
    "            \n",
    "        if estimate[estimate_negative_or_first_element_index] >= 0.0:\n",
    "            return solution, basis\n",
    "        else:\n",
    "            z = basic_A_inverse @ A[:, j_0] \n",
    "            if verbose:\n",
    "                print(f'Index j_0: {j_0 + 1}')\n",
    "                print(f'Vector z: {z}')\n",
    "            \n",
    "            if np.any(z > 0):\n",
    "                positive_z_indexes = np.where(z > 0)[0]\n",
    "                solution_over_z = solution[basis][positive_z_indexes] / z[positive_z_indexes]\n",
    "                solution_over_z_argmin = np.argmin(solution_over_z)\n",
    "                \n",
    "                s = positive_z_indexes[solution_over_z_argmin]\n",
    "                j_s = basis[s]\n",
    "                theta = solution_over_z[solution_over_z_argmin]                \n",
    "                if verbose:\n",
    "                    print(f'Index s: {s + 1}')\n",
    "                    print(f'Index j_s: {j_s + 1}')\n",
    "                    print(f'Theta: {theta}')\n",
    "                \n",
    "                solution[basis] = solution[basis] - theta * z\n",
    "                solution[j_0] = theta\n",
    "                \n",
    "                basis[basis.index(j_s)] = j_0\n",
    "                non_basis[non_basis.index(j_0)] = j_s\n",
    "                \n",
    "                z_s = z[s]\n",
    "                z[s] = -1\n",
    "                z /= -z_s \n",
    "\n",
    "                M = np.eye(z.size)\n",
    "                M[:, s] = z\n",
    "                basic_A_inverse = M @ basic_A_inverse\n",
    "                if verbose:\n",
    "                    print(f'Solution: {solution}')\n",
    "                    print(f'Basis: {[i + 1 for i in basis]}')\n",
    "                    print(f'B:\\n {basic_A_inverse}')\n",
    "            else:\n",
    "                warnings.warn('No solution', opt.OptimizeWarning)\n",
    "                return None, None\n",
    "        iteration_no += 1"
   ]
  },
  {
   "cell_type": "markdown",
   "metadata": {},
   "source": [
    "## Постановка линейной программы на основе реальной задачи и тестирование  симплекс-метода на ней"
   ]
  },
  {
   "cell_type": "markdown",
   "metadata": {},
   "source": [
    "Рассмотрим групповую задачу 1.20 - предприятие Танти Мару. Для того, чтобы составить линейную программу, необходимо определится с тем, что для данной практической задачи является планом, затем на основании условия составить ограничения на этот план и оптимизируемый функционал. \n",
    "\n",
    "В качестве плана я выбрал вектор $x \\in R^{15}$, где каждый элемент вектора $x_i$ представляет собой количество (не обязательно целое, в рамках данной формализации линия может быть не полностью нагруженной) запущенных  линиий определенного типа (первого или второго, или третьего) в определенный день недели (с понедельника по пятницу). \n",
    "\n",
    "Составим прямые ограничения для плана $x$: \n",
    "- $0 \\le x$ - (запущенных линий не может быть отрицательное количество)\n",
    "- $x \\le d$, где $d = \\begin{pmatrix} 8 & 8 & 3 & 8 & 8 & 3 & 8 & 8 & 3 & 8 & 8 & 3 & 8 & 8 & 3\\end{pmatrix}^T$ - из ограничений на количество линий каждого типа\n",
    "\n",
    "Составим основные ограничения для плана $x$:\n",
    "- $Ax \\ge b$, где $A = \\begin{pmatrix} \n",
    "150 & 200 & 400 & 0 & 0 & 0 & 0 & 0 & 0 & 0 & 0 & 0 & 0 & 0 & 0 \\\\\n",
    "150 & 200 & 400 & 150 & 200 & 400 & 0 & 0 & 0 & 0 & 0 & 0 & 0 & 0 & 0 \\\\\n",
    "150 & 200 & 400 & 150 & 200 & 400 & 150 & 200 & 400 & 0 & 0 & 0 & 0 & 0 & 0 \\\\\n",
    "150 & 200 & 400 & 150 & 200 & 400 & 150 & 200 & 400 & 150 & 200 & 400 & 0 & 0 & 0 \\\\\n",
    "150 & 200 & 400 & 150 & 200 & 400 & 150 & 200 & 400 & 150 & 200 & 400 & 150 & 200 & 400 \\\\\n",
    "\\end{pmatrix}$, а $b = \\begin{pmatrix} 3000 \\\\ 6800 \\\\ 11000 \\\\ 14650 \\\\ 17150 \\end{pmatrix}$. Данные ограничения возникают из условий, связанных с производительностью каждой линии, а также возможностью производить продукт с запасом.\n",
    "\n",
    "\n",
    "Составим оптимизируемый функционал: $c^Tx \\rightarrow min$, где $c = \\begin{pmatrix} 250 + 30 * 150 \\\\ 500 + 20 * 200 \\\\ 700 + 18 * 400 \\\\ 250 + 30 * 150 \\\\ 500 + 20 * 200 \\\\ 700 + 18 * 400 \\\\ 250 + 30 * 150 \\\\ 500 + 20 * 200 \\\\ 700 + 18 * 400 \\\\ 250 + 30 * 150 \\\\ 500 + 20 * 200 \\\\ 700 + 18 * 400 \\\\ 250 + 30 * 150 \\\\ 500 + 20 * 200 \\\\ 700 + 18 * 400 \\end{pmatrix} = \\begin{pmatrix} 4750 \\\\ 4500 \\\\ 7900 \\\\ 4750 \\\\ 4500 \\\\ 7900 \\\\ 4750 \\\\ 4500 \\\\ 7900 \\\\ 4750 \\\\ 4500 \\\\ 7900 \\\\ 4750 \\\\ 4500 \\\\ 7900\\end{pmatrix}$"
   ]
  },
  {
   "cell_type": "markdown",
   "metadata": {},
   "source": [
    "Теперь, для применения реализованного симплекс-метода необходимо привести линейную программу вида:\n",
    "\n",
    "$$ \\begin{cases}\n",
    "c^Tx \\rightarrow min \\\\\n",
    "Ax \\ge b \\\\\n",
    "0 \\le x \\le d\n",
    "\\end{cases}\n",
    "$$\n",
    "в каноническую форму:\n",
    "$$\n",
    "    \\begin{cases}\n",
    "      c^Tx \\rightarrow max \\\\\n",
    "      Ax = b \\\\\n",
    "      x \\ge 0 \\\\\n",
    "     \\end{cases}\n",
    "$$\n",
    "\n",
    "Преобразуем прямые ограничения используя slack variable $y$:\n",
    "$$z + y = d, z \\ge 0, y \\ge 0$$\n",
    "\n",
    "Тем самым получили линейную программу вида:\n",
    "$$\n",
    "    \\begin{cases}\n",
    "        c^Tz \\rightarrow min \\\\\n",
    "        Az = b \\\\\n",
    "        z + y = d \\\\\n",
    "        z \\ge 0 \\\\\n",
    "        y \\ge 0\n",
    "    \\end{cases}\n",
    "$$\n",
    "\n",
    "Преобразуем основные ограничения используя slack variable $t$:\n",
    "$$Az - Et = b$$\n",
    "\n",
    "Получим линейную программу вида:\n",
    "$$\n",
    "    \\begin{cases}\n",
    "        c^Tz \\rightarrow min \\\\\n",
    "        Az - Et = b \\\\\n",
    "        z + y = d \\\\\n",
    "        z \\ge 0 \\\\\n",
    "        y \\ge 0 \\\\\n",
    "        t \\ge 0\n",
    "    \\end{cases}\n",
    "$$\n",
    "\n",
    "Такжe, преобразуем минимизируемый функционал (чтобы получить задачу максимизации):\n",
    "$$ \\overline{c} = -c$$\n",
    "\n",
    "Окончательно, получим линейную программу вида:\n",
    "$$\n",
    "    \\begin{cases}\n",
    "        \\overline{c^T}z \\rightarrow max \\\\\n",
    "        Az - Et = b \\\\\n",
    "        z + y = d \\\\\n",
    "        z \\ge 0 \\\\\n",
    "        y \\ge 0 \\\\\n",
    "        t \\ge 0\n",
    "    \\end{cases}\n",
    "$$\n",
    "\n",
    "Чтобы привести данную линейную программу к каноническому виду используем блочные векторы и матрицы:\n",
    "$$\n",
    "\\begin{aligned}\n",
    "\\overline{X} &= (z, t, y) \\\\\n",
    "\\overline{A} &= \\begin{pmatrix} A & -E & 0 \\\\ E & 0 & E\\end{pmatrix} \\\\\n",
    "\\overline{B} &= \\begin{pmatrix} b \\\\ d \\end{pmatrix} \\\\\n",
    "\\overline{C} &= \\begin{pmatrix} \\overline{c} \\\\ 0 \\\\ 0\\end{pmatrix}\n",
    "\\end{aligned}$$\n",
    "\n",
    "Таким образом получаем линенейную программу, заданную в канонической форме:\n",
    "$$\\begin{cases}\n",
    "\\overline{C} \\space \\overline{X} \\rightarrow \\max \\\\\n",
    "\\overline{A}\\space \\overline{X} = \\overline{B} \\\\\n",
    "\\overline{X} \\ge 0\n",
    "\\end{cases}$$"
   ]
  },
  {
   "cell_type": "markdown",
   "metadata": {},
   "source": [
    "Перепишем начальные условия в виде `numpy` векторов и матриц"
   ]
  },
  {
   "cell_type": "code",
   "execution_count": 4,
   "metadata": {},
   "outputs": [],
   "source": [
    "A = np.array([[150, 200, 400, 0, 0, 0, 0, 0, 0, 0, 0, 0, 0, 0, 0],\n",
    "[150, 200, 400, 150, 200, 400, 0, 0, 0, 0, 0, 0, 0, 0, 0],\n",
    "[150, 200, 400, 150, 200, 400, 150, 200, 400, 0, 0, 0, 0, 0, 0],\n",
    "[150, 200, 400, 150, 200, 400, 150, 200, 400, 150, 200, 400, 0, 0, 0],\n",
    "[150, 200, 400, 150, 200, 400, 150, 200, 400, 150, 200, 400, 150, 200, 400]], dtype='float32')\n",
    "\n",
    "b = np.array([3000, 6800, 11000, 14650, 17150], dtype='float32')\n",
    "c = np.array([4750, 4500, 7900, 4750, 4500, 7900, 4750, 4500, 7900, 4750, 4500, 7900, 4750, 4500, 7900], dtype='float32')\n",
    "d = np.array([8, 8, 3, 8, 8, 3, 8, 8, 3, 8, 8, 3, 8, 8, 3], dtype='float32')"
   ]
  },
  {
   "cell_type": "markdown",
   "metadata": {},
   "source": [
    "Составим блочные матрицы $\\overline{A}, \\overline{B}, \\overline{C}$, а также запишем базовый план $X$ и по нему составим базис.  "
   ]
  },
  {
   "cell_type": "code",
   "execution_count": 5,
   "metadata": {},
   "outputs": [],
   "source": [
    "overline_A = np.block([[A, -np.eye(b.size), np.zeros((b.size, d.size))], [np.eye(d.size), np.zeros((d.size, b.size)), np.eye(d.size)]])\n",
    "overline_C = np.block([-c, np.zeros(b.size), np.zeros(d.size)])\n",
    "overline_B = np.block([b, d])\n",
    "initial_solution = np.array([1.33, 8.00, 3.00, 8.00, 8.00, 3.00, 8.00, 8.00, 3.00, 5.67,\n",
    "                             8.00, 3.00, 0, 6.50, 3.00, 0, 2.00, 0.05, 0, 0, 6.66, 0, 0, 0, 0, 0, 0, 0, 0, 2.33, 0, 0, 8.00, 1.50, 0])\n",
    "initial_basis = [index for index, element in enumerate(initial_solution) if not np.isclose(element, 0.0)]"
   ]
  },
  {
   "cell_type": "markdown",
   "metadata": {},
   "source": [
    "Решим данную линейную программу при помощи разработанного симплекс метода. Затем, получим план изначальной линейной программы $x$, выбрав только первые 15 значений полученного плана (то есть, избавимся от slack variables)"
   ]
  },
  {
   "cell_type": "code",
   "execution_count": 6,
   "metadata": {},
   "outputs": [],
   "source": [
    "solution, solution_basis = simplex(A=overline_A, c=overline_C, initial_basic_solution=initial_solution, initial_basis=initial_basis)\n",
    "final_solution = solution[:15]"
   ]
  },
  {
   "cell_type": "markdown",
   "metadata": {},
   "source": [
    "Таким образом, мы получили оптимальный план $x$ исходной задачи "
   ]
  },
  {
   "cell_type": "code",
   "execution_count": 7,
   "metadata": {},
   "outputs": [
    {
     "data": {
      "text/plain": [
       "array([7.99, 8.  , 3.  , 7.01, 8.  , 3.  , 8.  , 8.  , 3.  , 0.  , 8.  ,\n",
       "       3.  , 0.  , 6.5 , 3.  ])"
      ]
     },
     "execution_count": 7,
     "metadata": {},
     "output_type": "execute_result"
    }
   ],
   "source": [
    "final_solution"
   ]
  },
  {
   "cell_type": "markdown",
   "metadata": {},
   "source": [
    "При этом, минимум оптимизируемого функционала равен"
   ]
  },
  {
   "cell_type": "code",
   "execution_count": 8,
   "metadata": {},
   "outputs": [
    {
     "data": {
      "text/plain": [
       "401000.0"
      ]
     },
     "execution_count": 8,
     "metadata": {},
     "output_type": "execute_result"
    }
   ],
   "source": [
    "c @ final_solution"
   ]
  },
  {
   "cell_type": "markdown",
   "metadata": {},
   "source": [
    "## Тестирование реализованного алгоритма на линейной программе согласно варианту для определения соответствия алгоритма заложенному симплекс-методу"
   ]
  },
  {
   "cell_type": "markdown",
   "metadata": {},
   "source": [
    "Рассмотрим ход работы симплекс-метода для линейной программы (заданной в канонической форме) согласно варианту 25:\n",
    "$$\n",
    "    \\begin{cases}\n",
    "      c^Tx \\rightarrow max \\\\\n",
    "      Ax = b \\\\\n",
    "      x > 0 \\\\\n",
    "     \\end{cases}\n",
    "$$\n",
    "где: \n",
    "$$\n",
    "    \\begin{aligned} \n",
    "        A &= \\begin{pmatrix} 1 & -1 & 0 & 2 & -1 & -1 & 2 & 1 & 7 \\\\\n",
    "    -1 & 2 & 1 & 3 & 0 & 1 & 1 & 1 & 1 \\\\\n",
    "    1 & -1 & 1 & 0 & 1 & 4 & 4 & 1 & 2 \\\\\n",
    "    1 & -3 & 0 & -8 & 2 & 3 & 0 & 1 & 1 \\\\\n",
    "    \\end{pmatrix} \\\\ \\\\\n",
    "    b &= \\begin{pmatrix} -2 & 10 & 25 & 14\\end{pmatrix} \\\\ \\\\\n",
    "    c &= \\begin{pmatrix} 4 & -5 & 1 & 3 & 1 & 8 & 1 & 1 & -1  \\end{pmatrix} \n",
    "    \\end{aligned}\n",
    "$$\n",
    "при этом необходимо взять базисный план $x$:\n",
    "$$\n",
    "    x = \\begin{pmatrix} 0 & 1 & 0 & 0 & 0 & 5 & 1 & 2 & 0\\end{pmatrix}\n",
    "$$\n",
    "и базис:\n",
    "$$\n",
    "    J = \\{2, 6, 7, 8\\}\n",
    "$$"
   ]
  },
  {
   "cell_type": "markdown",
   "metadata": {},
   "source": [
    "**Итерация** $i = 0$\n",
    "\n",
    "По заданному множеству базисному множеству $J_B = \\{2, 6, 7, 8\\}$ сформируем базисную матрицу $A_B$:\n",
    "\n",
    "$$A_B = \\begin{pmatrix} \n",
    "-1 & -1 & 2 & 1 \\\\ \n",
    "2 & 1 & 1 & 1 \\\\\n",
    "-1 & 4 & 4 & 1 \\\\\n",
    "-3 & 3 & 0 & 1 \\\\\n",
    "\\end{pmatrix}$$\n",
    "\n",
    "Вычислим обратную матрицу $B = A_B^{-1}$: \n",
    "\n",
    "$$ B = \n",
    "\\begin{pmatrix} \n",
    "-0.125 & 0.25 & 0 & -0.125 \\\\\n",
    "-0.25 & 0.055 & 0.11 & 0.083 \\\\\n",
    "0.125 & -0.138 & 0.22 & -0.208 \\\\\n",
    "0.375 & 0.583 & -0.333 & 0.375\n",
    "\\end{pmatrix}$$\n",
    "\n",
    "Построим $c_B = \\begin{pmatrix} -5 \\\\ 8 \\\\ 1 \\\\ 1\\end{pmatrix}$.\n",
    "\n",
    "Вычислим вектор потенциалов $u^T$ и вектор оценок $\\Delta$: \n",
    "\n",
    "$$ u^T = c^T_BB = \\begin{pmatrix} -5 & 8 & 1 & 1\\end{pmatrix} \\begin{pmatrix} -0.125 & 0.25 & 0 & -0.125 \\\\\n",
    "-0.25 & 0.055 & 0.11 & 0.083 \\\\\n",
    "0.125 & -0.138 & 0.22 & -0.208 \\\\\n",
    "0.375 & 0.583 & -0.333 & 0.375\n",
    "\\end{pmatrix} = \\begin{pmatrix}-0.875 & -0.361 & 0.778 & 1.458 \\end{pmatrix} \n",
    "\\\\\n",
    "\\\\\n",
    "\\Delta = u^TA - c^T = \\begin{pmatrix}-0.875 & -0.361 & 0.778 & 1.458 \\end{pmatrix} \\begin{pmatrix} 1 & -1 & 0 & 2 & -1 & -1 & 2 & 1 & 7 \\\\\n",
    "-1 & 2 & 1 & 3 & 0 & 1 & 1 & 1 & 1 \\\\\n",
    "1 & -1 & 1 & 0 & 1 & 4 & 4 & 1 & 2 \\\\\n",
    "1 & -3 & 0 & -8 & 2 & 3 & 0 & 1 & 1 \\\\\n",
    "\\end{pmatrix} - \\begin{pmatrix}4 & -5 & 1 & 3 & 1 & 8 & 1 & 1 & -1\\end{pmatrix} = \\begin{pmatrix}-2.278 & 0 & -0.583 & -17.5 & 3.570 & 0 & 0 & 0 & -2.472\\end{pmatrix}$$\n",
    "\n",
    "Для данного вектора оценок условие $\\Delta_j \\ge 0, j \\in J_H = J \\backslash J_B$ не соблюдается. Выберем индекс по правилу Бленда $j_0 \\in J_H$, для которого $\\Delta_{j_0} < 0$: \n",
    "\n",
    "$$\\Delta_1 = -2.278 < 0 \\Rightarrow j_0 = 1$$\n",
    "\n",
    "Построим вектор $z$:\n",
    "\n",
    "$$z = BA_{j_0} = \\begin{pmatrix} -0.125 & 0.25 & 0 & -0.125 \\\\\n",
    "-0.25 & 0.055 & 0.11 & 0.083 \\\\\n",
    "0.125 & -0.138 & 0.22 & -0.208 \\\\\n",
    "0.375 & 0.583 & -0.333 & 0.375\n",
    "\\end{pmatrix} \\begin{pmatrix} 1 & -1 & 1 & 1\\end{pmatrix} = \\begin{pmatrix} -0.5 \\\\ -0.11111111 \\\\ 0.27777778 \\\\ -0.16666667\\end{pmatrix}$$\n",
    "\n",
    "Для данного вектора $z$ условие $z \\le 0$, не выполняется, поэтому продолжим итерацию. Вычислим $\\theta_i, i=\\overline {1,4}$:\n",
    "\n",
    "$$\\theta_i = \\begin{cases} \n",
    "\\frac{x_{j_i}}{z_i}, z_i > 0 \\\\\n",
    "+\\infty, z_i \\le 0\n",
    "\\end{cases}, \\forall j \\in J_B$$\n",
    "Найдем $\\theta_0 = \\min{\\theta_i} \\space \\forall i \\in \\overline{1, 4}$:\n",
    "\n",
    "$$\\theta_0 = \\theta_3 = 3.6 \\Rightarrow s = 3, j_s = j_3 = 7$$\n",
    "\n",
    "Построим новые базис и базисный план $\\overline{x}_j$ по формулам:\n",
    "\n",
    "$$\n",
    "\\overline{x}_j = 0, j \\in J_H \\backslash j_0 \\\\ \\overline{x}_{j_0} = \\theta_0 \\\\ \\overline{x}_{j_i} = x_{j_i} - \\theta_0z_i i \\in \\overline{1, 4} \\\\\n",
    "\\overline{J}_B = (J_B \\backslash j_s) \\cup j_0\n",
    "$$\n",
    "Получим новые базис $\\overline{J}_B = \\{2, 6, 1, 8\\}$ и план $x = \\begin{pmatrix}3.6 & 2.8 & 0 & 0 & 0 & 5.4 & 0 & 2.6 & 0\\end{pmatrix}$\n",
    "Также, необходимо пересчитать обратную базисную матрицу $\\overline{B}$. Из формул прошлой лабораторной работы получим:\n",
    "\n",
    "$$\\overline{B} = \\begin{pmatrix}\n",
    "0.1 & 0 & 0.4 & -0.5 \\\\\n",
    "-0.2 & 0 & 0.2 & 0 \\\\\n",
    "0.45 & -0.5 & 0.8 & -0.75 \\\\\n",
    "0.45 & 0.5 & -0.2 & 0.25 \n",
    "\\end{pmatrix}$$\n",
    "\n",
    "**Итерация** $i = 1$\n",
    "\n",
    "По полученному из предыдущей итерации базисному множеству $J_B=\\{2, 6, 1, 8\\}$ сформируем базисную матрицу $A_B$:\n",
    "\n",
    "$$A_B = \\begin{pmatrix}\n",
    "-1 & -1 & 1 & 1 \\\\ \n",
    "2 & 1 & -1 & 1 \\\\\n",
    "-1 & 4 & 1 & 1 \\\\\n",
    "-3 & 3 & 1 & \n",
    "\\end{pmatrix}$$\n",
    "\n",
    "Также используем полученную на предыдущем шаге обратную матрицу $B$:\n",
    "\n",
    "$$B = \\begin{pmatrix}\n",
    "0.1 & 0 & 0.4 & -0.5 \\\\\n",
    "-0.2 & 0 & 0.2 & 0 \\\\\n",
    "0.45 & -0.5 & 0.8 & -0.75 \\\\\n",
    "0.45 & 0.5 & -0.2 & 0.25 \n",
    "\\end{pmatrix}$$\n",
    "\n",
    "Построим $c_B = \\begin{pmatrix} -5 \\\\ 8 \\\\ 4 \\\\ 1 \\end{pmatrix}$.\n",
    "\n",
    "Вычислим вектор потенциалов $u^T$ и вектор оценок $\\Delta$:\n",
    "\n",
    "$$ u^T = c^T_BB =  \\begin{pmatrix} -5 & 8 & 4 & 1 \\end{pmatrix} \\begin{pmatrix}\n",
    "0.1 & 0 & 0.4 & -0.5 \\\\\n",
    "-0.2 & 0 & 0.2 & 0 \\\\\n",
    "0.45 & -0.5 & 0.8 & -0.75 \\\\\n",
    "0.45 & 0.5 & -0.2 & 0.25 \n",
    "\\end{pmatrix} = \\begin{pmatrix} 0.15 & -1.5 & 2.6 & -0.25 \\end{pmatrix} \\\\\n",
    "\\Delta = u^TA - c^T = \\begin{pmatrix} 0.15 & -1.5 & 2.6 & -0.25  \\end{pmatrix} \\begin{pmatrix} 1 & -1 & 0 & 2 & -1 & -1 & 2 & 1 & 7 \\\\\n",
    "-1 & 2 & 1 & 3 & 0 & 1 & 1 & 1 & 1 \\\\\n",
    "1 & -1 & 1 & 0 & 1 & 4 & 4 & 1 & 2 \\\\\n",
    "1 & -3 & 0 & -8 & 2 & 3 & 0 & 1 & 1 \\\\\n",
    "\\end{pmatrix} - \\begin{pmatrix}4 & -5 & 1 & 3 & 1 & 8 & 1 & 1 & -1\\end{pmatrix} = \\begin{pmatrix} 0 & 0 & 0.1 & -5.2 & 0.95 & 0 & 8.2 & 0 & 5.2 \\end{pmatrix}$$\n",
    "\n",
    "Для данного вектора оценок условие $\\Delta_j \\ge 0, j \\in J_H = J \\backslash J_B$ не соблюдается. Выберем индекс по правил Бленда $j_0 \\in J_H$, для которого $\\Delta_{j_0} < 0$:\n",
    "\n",
    "$$\\Delta_4 = -5.2 < 0 \\Rightarrow j_0 = 4$$\n",
    "\n",
    "Построим вектор $z$: \n",
    "\n",
    "$$z = BA_{j_0} =  \\begin{pmatrix}\n",
    "0.1 & 0 & 0.4 & -0.5 \\\\\n",
    "-0.2 & 0 & 0.2 & 0 \\\\\n",
    "0.45 & -0.5 & 0.8 & -0.75 \\\\\n",
    "0.45 & 0.5 & -0.2 & 0.25 \n",
    "\\end{pmatrix} \\begin{pmatrix} 2 \\\\ 3 \\\\ 0 \\\\ -8\\end{pmatrix} = \\begin{pmatrix} 4.2 & -0.4 & 5.4 & 0.4\\end{pmatrix}$$\n",
    "\n",
    "Для данного вектора $z$ условие $z \\le 0$, не выполняется, поэтому продолжим итерацию. Вычислим $\\theta_i, i=\\overline {1,4}$:\n",
    "\n",
    "$$\\theta_i = \\begin{cases} \n",
    "\\frac{x_{j_i}}{z_i}, z_i > 0 \\\\\n",
    "+\\infty, z_i \\le 0\n",
    "\\end{cases}, \\forall j \\in J_B$$\n",
    "\n",
    "Найдем $\\theta_0 = \\min{\\theta_i} \\space \\forall i \\in \\overline{1, 4}$:\n",
    "\n",
    "$$\\theta_0 = \\theta_3 = 0.66 \\Rightarrow s = 3, j_s = j_3 = 1$$\n",
    "\n",
    "Построим новые базис и базисный план $\\overline{x}_j$ по формулам:\n",
    "\n",
    "$$\n",
    "\\overline{x}_j = 0, j \\in J_H \\backslash j_0 \\\\ \n",
    "\\overline{x}_{j_0} = \\theta_0 \\\\ \n",
    "\\overline{x}_{j_i} = x_{j_i} - \\theta_0z_i i \\in \\overline{1, 4} \\\\\n",
    "\\overline{J}_B = (J_B \\backslash j_s) \\cup j_0\n",
    "$$\n",
    "Получим новые базис $\\overline{J}_B = \\{2, 6, 4, 8\\}$ и план $x = \\begin{pmatrix}0 & 0 & 0 & 0.67 & 0 & 0.57 & 0 & 0.23 & 0 \\end{pmatrix}$\n",
    "\n",
    "Также, необходимо пересчитать обратную базисную матрицу $\\overline{B}$. Из формул прошлой лабораторной работы получим:\n",
    "\n",
    "$$\\overline{B} = \\begin{pmatrix}\n",
    "-0.25 & 0.39 & -0.22 & 0.08 \\\\\n",
    "-0.17 & -0.04 & 0.26 & -0.06 \\\\\n",
    "0.08 & -0.09 & 0.15 & -0.14 \\\\\n",
    "0.42 & 0.54 & -0.26 &  0.31\n",
    "\\end{pmatrix}$$\n",
    "\n",
    "Дальнейшие итерации выполняются аналогично до момента, когда очередной вектор потенциалов $\\Delta$ по всем небазисным индексам $j \\in J \\backslash J_B$ будет иметь неотрицательные элементы."
   ]
  },
  {
   "cell_type": "markdown",
   "metadata": {},
   "source": [
    "Запустив реализованный алгоритм можно увидеть, что выводимые промежуточные результаты совпадают (с точностью до перестановки элементов) с двумя разобранными шагами."
   ]
  },
  {
   "cell_type": "code",
   "execution_count": 9,
   "metadata": {},
   "outputs": [
    {
     "name": "stdout",
     "output_type": "stream",
     "text": [
      "Initial B:\n",
      " [[-1.25000000e-01  2.50000000e-01  1.85037171e-17 -1.25000000e-01]\n",
      " [-2.50000000e-01  5.55555556e-02  1.11111111e-01  8.33333333e-02]\n",
      " [ 1.25000000e-01 -1.38888889e-01  2.22222222e-01 -2.08333333e-01]\n",
      " [ 3.75000000e-01  5.83333333e-01 -3.33333333e-01  3.75000000e-01]]\n",
      "Iteration no.: 0\n",
      "Vector potential: [-0.875      -0.36111111  0.77777778  1.45833333]\n",
      "Vector estimate: [ -2.27777778  -0.58333333 -17.5          3.56944444  -2.47222222]\n",
      "Index j_0: 1\n",
      "Vector z: [-0.5        -0.11111111  0.27777778 -0.16666667]\n",
      "Index s: 3\n",
      "Index j_s: 7\n",
      "Theta: 3.5999999999999996\n",
      "Solution: [3.6 2.8 0.  0.  0.  5.4 0.  2.6 0. ]\n",
      "Basis: [2, 6, 1, 8]\n",
      "B:\n",
      " [[ 1.00000000e-01  3.88578059e-17  4.00000000e-01 -5.00000000e-01]\n",
      " [-2.00000000e-01 -3.53112601e-17  2.00000000e-01  4.62592927e-19]\n",
      " [ 4.50000000e-01 -5.00000000e-01  8.00000000e-01 -7.50000000e-01]\n",
      " [ 4.50000000e-01  5.00000000e-01 -2.00000000e-01  2.50000000e-01]]\n",
      "Iteration no.: 1\n",
      "Vector potential: [ 0.15 -1.5   2.6  -0.25]\n",
      "Vector estimate: [ 8.2   0.1  -5.2   0.95  5.5 ]\n",
      "Index j_0: 4\n",
      "Vector z: [ 4.2 -0.4  5.4  0.4]\n",
      "Index s: 3\n",
      "Index j_s: 1\n",
      "Theta: 0.6666666666666665\n",
      "Solution: [0.00000000e+00 4.44089210e-16 0.00000000e+00 6.66666667e-01\n",
      " 0.00000000e+00 5.66666667e+00 0.00000000e+00 2.33333333e+00\n",
      " 0.00000000e+00]\n",
      "Basis: [2, 6, 4, 8]\n",
      "B:\n",
      " [[-0.25        0.38888889 -0.22222222  0.08333333]\n",
      " [-0.16666667 -0.03703704  0.25925926 -0.05555556]\n",
      " [ 0.08333333 -0.09259259  0.14814815 -0.13888889]\n",
      " [ 0.41666667  0.53703704 -0.25925926  0.30555556]]\n",
      "Iteration no.: 2\n",
      "Vector potential: [ 0.58333333 -1.98148148  3.37037037 -0.97222222]\n",
      "Vector estimate: [11.66666667  0.38888889  0.96296296 -0.15740741  8.87037037]\n",
      "Index j_0: 5\n",
      "Vector z: [ 0.19444444  0.31481481 -0.21296296 -0.06481481]\n",
      "Index s: 1\n",
      "Index j_s: 2\n",
      "Theta: 2.283887364943181e-15\n",
      "Solution: [0.00000000e+00 4.93038066e-32 0.00000000e+00 6.66666667e-01\n",
      " 2.28388736e-15 5.66666667e+00 0.00000000e+00 2.33333333e+00\n",
      " 0.00000000e+00]\n",
      "Basis: [5, 6, 4, 8]\n",
      "B:\n",
      " [[-1.28571429  2.         -1.14285714  0.42857143]\n",
      " [ 0.23809524 -0.66666667  0.61904762 -0.19047619]\n",
      " [-0.19047619  0.33333333 -0.0952381  -0.04761905]\n",
      " [ 0.33333333  0.66666667 -0.33333333  0.33333333]]\n",
      "Iteration no.: 3\n",
      "Vector potential: [ 0.38095238 -1.66666667  3.19047619 -0.9047619 ]\n",
      "Vector estimate: [10.85714286  0.52380952  0.33333333  0.80952381  7.47619048]\n"
     ]
    },
    {
     "data": {
      "text/plain": [
       "(array([0.00000000e+00, 4.93038066e-32, 0.00000000e+00, 6.66666667e-01,\n",
       "        2.28388736e-15, 5.66666667e+00, 0.00000000e+00, 2.33333333e+00,\n",
       "        0.00000000e+00]),\n",
       " [4, 5, 3, 7])"
      ]
     },
     "execution_count": 9,
     "metadata": {},
     "output_type": "execute_result"
    }
   ],
   "source": [
    "A = np.array([[1, -1, 0, 2, -1, -1, 2, 1, 7 ],\n",
    "            [-1, 2, 1, 3, 0, 1, 1, 1, 1],\n",
    "            [1, -1, 1, 0, 1, 4, 4, 1, 2],\n",
    "            [1, -3, 0, -8, 2, 3, 0, 1, 1]], dtype='float64')\n",
    "b = np.array([-2, 10, 25, 14], dtype='float64')\n",
    "c = np.array([4, -5, 1, 3, 1, 8, 1, 1, -1], dtype='float64')\n",
    "initial_solution = np.array([0, 1, 0, 0, 0, 5, 1, 2, 0], dtype='float64')\n",
    "basis = [1, 5, 6, 7]\n",
    "\n",
    "simplex(A, c, initial_solution, basis, True)"
   ]
  },
  {
   "cell_type": "markdown",
   "metadata": {},
   "source": [
    "Также, можно проверить результат при помощи симплекс-метода реализованного в функции `linprog` из библиотеки `scipy`. Как видно, результаты совпадают. "
   ]
  },
  {
   "cell_type": "code",
   "execution_count": 10,
   "metadata": {},
   "outputs": [
    {
     "data": {
      "text/plain": [
       "     con: array([-1.11022302e-15,  0.00000000e+00,  3.55271368e-15,  3.55271368e-15])\n",
       "     fun: -49.666666666666664\n",
       " message: 'Optimization terminated successfully.'\n",
       "     nit: 3\n",
       "   slack: array([], dtype=float64)\n",
       "  status: 0\n",
       " success: True\n",
       "       x: array([2.85485921e-16, 1.11022302e-16, 0.00000000e+00, 6.66666667e-01,\n",
       "       0.00000000e+00, 5.66666667e+00, 0.00000000e+00, 2.33333333e+00,\n",
       "       0.00000000e+00])"
      ]
     },
     "execution_count": 10,
     "metadata": {},
     "output_type": "execute_result"
    }
   ],
   "source": [
    "opt.linprog(A_eq=A, b_eq=b, c=-c, x0=initial_solution, method='revised simplex')"
   ]
  }
 ],
 "metadata": {
  "kernelspec": {
   "display_name": "Python 3",
   "language": "python",
   "name": "python3"
  },
  "language_info": {
   "codemirror_mode": {
    "name": "ipython",
    "version": 3
   },
   "file_extension": ".py",
   "mimetype": "text/x-python",
   "name": "python",
   "nbconvert_exporter": "python",
   "pygments_lexer": "ipython3",
   "version": "3.8.7"
  }
 },
 "nbformat": 4,
 "nbformat_minor": 4
}
